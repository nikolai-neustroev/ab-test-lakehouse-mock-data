{
 "cells": [
  {
   "cell_type": "code",
   "execution_count": 1,
   "id": "58539d6c-af3c-4d0a-9ff0-816fc60a6fba",
   "metadata": {},
   "outputs": [],
   "source": [
    "%load_ext dotenv\n",
    "%dotenv"
   ]
  },
  {
   "cell_type": "code",
   "execution_count": 2,
   "id": "a3741266-2373-4710-85b8-902a14143d8e",
   "metadata": {},
   "outputs": [],
   "source": [
    "import os\n",
    "import csv\n",
    "import json\n",
    "from google.cloud import pubsub_v1\n",
    "from tqdm import tqdm"
   ]
  },
  {
   "cell_type": "code",
   "execution_count": 3,
   "id": "ea13c1e9-03d0-4ef3-b917-edc2457855ad",
   "metadata": {},
   "outputs": [],
   "source": [
    "project_id = os.environ['PROJECT_ID']\n",
    "topic_id = os.environ['TOPIC_ID']"
   ]
  },
  {
   "cell_type": "code",
   "execution_count": 4,
   "id": "94d12258-d2fb-4be1-9d2f-bf2f5ef7acc0",
   "metadata": {},
   "outputs": [],
   "source": [
    "# Initialize the Pub/Sub publisher client\n",
    "publisher = pubsub_v1.PublisherClient()\n",
    "topic_path = publisher.topic_path(project_id, topic_id)"
   ]
  },
  {
   "cell_type": "code",
   "execution_count": 5,
   "id": "77c9baac-2848-488a-8b27-b11ebdf79ef1",
   "metadata": {},
   "outputs": [],
   "source": [
    "file_path = \"data/review_written.csv\""
   ]
  },
  {
   "cell_type": "code",
   "execution_count": 6,
   "id": "8bdf1afb-5ca8-4794-8691-3415f4aac5d9",
   "metadata": {},
   "outputs": [
    {
     "name": "stdout",
     "output_type": "stream",
     "text": [
      "Total number of rows to publish: 1135\n"
     ]
    }
   ],
   "source": [
    "total_rows = 0\n",
    "\n",
    "with open(file_path, \"r\", newline=\"\", encoding=\"utf-8\") as csvfile:\n",
    "    reader = csv.DictReader(csvfile)\n",
    "    file_row_count = sum(1 for row in reader)\n",
    "    total_rows += file_row_count\n",
    "\n",
    "print(f\"Total number of rows to publish: {total_rows}\")"
   ]
  },
  {
   "cell_type": "code",
   "execution_count": 7,
   "id": "6f05e021-bf81-4a47-8d6a-9d85fc8e5d1b",
   "metadata": {},
   "outputs": [
    {
     "name": "stderr",
     "output_type": "stream",
     "text": [
      "Publishing messages: 100%|█████████████████████████████████████████████████████████████████████| 1135/1135 [01:01<00:00, 18.33it/s]\n"
     ]
    }
   ],
   "source": [
    "with tqdm(total=total_rows, desc=\"Publishing messages\") as pbar:\n",
    "    with open(file_path, \"r\", newline=\"\", encoding=\"utf-8\") as csvfile:\n",
    "        reader = csv.DictReader(csvfile)\n",
    "        for row in reader:\n",
    "            message_json = json.dumps(row)\n",
    "            message_data = message_json.encode(\"utf-8\")\n",
    "            \n",
    "            future = publisher.publish(topic_path, data=message_data)\n",
    "            future.result()\n",
    "            \n",
    "            pbar.update(1)"
   ]
  },
  {
   "cell_type": "code",
   "execution_count": null,
   "id": "38816bcc-899f-471f-8bb6-2f40c0a8ce2a",
   "metadata": {},
   "outputs": [],
   "source": []
  }
 ],
 "metadata": {
  "kernelspec": {
   "display_name": "Python 3 (ipykernel)",
   "language": "python",
   "name": "python3"
  },
  "language_info": {
   "codemirror_mode": {
    "name": "ipython",
    "version": 3
   },
   "file_extension": ".py",
   "mimetype": "text/x-python",
   "name": "python",
   "nbconvert_exporter": "python",
   "pygments_lexer": "ipython3",
   "version": "3.12.8"
  }
 },
 "nbformat": 4,
 "nbformat_minor": 5
}
